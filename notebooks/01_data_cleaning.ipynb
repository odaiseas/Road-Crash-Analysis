{
 "cells": [
  {
   "cell_type": "code",
   "execution_count": 1,
   "id": "53e31adb-6e28-4d42-b0ca-47f36f684cac",
   "metadata": {},
   "outputs": [
    {
     "name": "stdout",
     "output_type": "stream",
     "text": [
      "Accidents shape: (1000, 18)\n",
      "Participants shape: (2521, 8)\n",
      "Vehicles shape: (1578, 7)\n"
     ]
    }
   ],
   "source": [
    "import pandas as pd\n",
    "\n",
    "# Загрузка данных\n",
    "sample_accidents = pd.read_csv('../data/sample/sample_accidents.csv')\n",
    "sample_participants = pd.read_csv('../data/sample/sample_participants.csv')\n",
    "sample_vehicles = pd.read_csv('../data/sample/sample_vehicles.csv')\n",
    "\n",
    "# Проверка размеров\n",
    "print(\"Accidents shape:\", sample_accidents.shape)\n",
    "print(\"Participants shape:\", sample_participants.shape)\n",
    "print(\"Vehicles shape:\", sample_vehicles.shape)"
   ]
  },
  {
   "cell_type": "code",
   "execution_count": 3,
   "id": "7f8e4017-8966-4984-878f-f2fab807c509",
   "metadata": {},
   "outputs": [
    {
     "name": "stdout",
     "output_type": "stream",
     "text": [
      "Accidents columns after dropping: Index(['id', 'tags', 'category', 'region', 'longitude', 'latitude', 'datetime',\n",
      "       'light', 'weather', 'road_conditions', 'participants_count',\n",
      "       'participant_categories', 'severity', 'dead_count', 'injured_count'],\n",
      "      dtype='object')\n",
      "Participants columns: Index(['accident_id', 'vehicle_id', 'participant_id', 'role', 'gender',\n",
      "       'violations', 'health_status', 'years_of_driving_experience'],\n",
      "      dtype='object')\n",
      "Vehicles columns after dropping: Index(['accident_id', 'vehicle_id', 'category', 'brand', 'model', 'year'], dtype='object')\n"
     ]
    }
   ],
   "source": [
    "# Удаление нерелевантных для анализа столбцов\n",
    "sample_accidents = sample_accidents.drop(columns=['county', 'address', 'nearby'], errors='ignore')\n",
    "sample_vehicles = sample_vehicles.drop(columns=['color'], errors='ignore')\n",
    "\n",
    "# Проверка оставшихся столбцов\n",
    "print(\"Accidents columns after dropping:\", sample_accidents.columns)\n",
    "print(\"Participants columns:\", sample_participants.columns)\n",
    "print(\"Vehicles columns after dropping:\", sample_vehicles.columns)"
   ]
  },
  {
   "cell_type": "code",
   "execution_count": 5,
   "id": "3e1da937-6aa9-4879-8136-6934f13bef9e",
   "metadata": {},
   "outputs": [
    {
     "name": "stdout",
     "output_type": "stream",
     "text": [
      "Accidents missing values:\n",
      " id                         0\n",
      "tags                       0\n",
      "category                   0\n",
      "region                     0\n",
      "longitude                 10\n",
      "latitude                  10\n",
      "datetime                   0\n",
      "light                      0\n",
      "weather                    0\n",
      "road_conditions            0\n",
      "participants_count         0\n",
      "participant_categories     0\n",
      "severity                   0\n",
      "dead_count                 0\n",
      "injured_count              0\n",
      "dtype: int64\n",
      "Participants missing values:\n",
      " accident_id                       0\n",
      "vehicle_id                      342\n",
      "participant_id                    0\n",
      "role                              0\n",
      "gender                           47\n",
      "violations                     1349\n",
      "health_status                     5\n",
      "years_of_driving_experience    1120\n",
      "dtype: int64\n",
      "Vehicles missing values:\n",
      " accident_id     0\n",
      "vehicle_id      0\n",
      "category        0\n",
      "brand          48\n",
      "model          48\n",
      "year           57\n",
      "dtype: int64\n"
     ]
    }
   ],
   "source": [
    "# Проверка пропущенных значений\n",
    "print(\"Accidents missing values:\\n\", sample_accidents.isnull().sum())\n",
    "print(\"Participants missing values:\\n\", sample_participants.isnull().sum())\n",
    "print(\"Vehicles missing values:\\n\", sample_vehicles.isnull().sum())\n",
    "# Пропуски оставляем для обработки перед моделированием"
   ]
  },
  {
   "cell_type": "code",
   "execution_count": 7,
   "id": "2abcccab-9459-405d-bb0d-26761c2e2371",
   "metadata": {},
   "outputs": [
    {
     "name": "stdout",
     "output_type": "stream",
     "text": [
      "Accidents dtypes:\n",
      " id                          int64\n",
      "tags                       object\n",
      "category                   object\n",
      "region                     object\n",
      "longitude                 float64\n",
      "latitude                  float64\n",
      "datetime                   object\n",
      "light                      object\n",
      "weather                    object\n",
      "road_conditions            object\n",
      "participants_count          int64\n",
      "participant_categories     object\n",
      "severity                   object\n",
      "dead_count                  int64\n",
      "injured_count               int64\n",
      "dtype: object\n",
      "Participants dtypes:\n",
      " accident_id                      int64\n",
      "vehicle_id                      object\n",
      "participant_id                  object\n",
      "role                            object\n",
      "gender                          object\n",
      "violations                      object\n",
      "health_status                   object\n",
      "years_of_driving_experience    float64\n",
      "dtype: object\n",
      "Vehicles dtypes:\n",
      " accident_id      int64\n",
      "vehicle_id      object\n",
      "category        object\n",
      "brand           object\n",
      "model           object\n",
      "year           float64\n",
      "dtype: object\n"
     ]
    }
   ],
   "source": [
    "# Проверка типов данных\n",
    "print(\"Accidents dtypes:\\n\", sample_accidents.dtypes)\n",
    "print(\"Participants dtypes:\\n\", sample_participants.dtypes)\n",
    "print(\"Vehicles dtypes:\\n\", sample_vehicles.dtypes)"
   ]
  },
  {
   "cell_type": "code",
   "execution_count": 11,
   "id": "b7030037-e9f0-4056-81b3-bee89d8cec07",
   "metadata": {},
   "outputs": [
    {
     "name": "stdout",
     "output_type": "stream",
     "text": [
      "Аварии с элементами даты:\n",
      "              datetime  year  month  day\n",
      "0 2018-03-11 12:45:00  2018      3   11\n",
      "1 2019-09-06 02:20:00  2019      9    6\n",
      "2 2015-04-28 13:10:00  2015      4   28\n",
      "3 2022-11-14 10:00:00  2022     11   14\n",
      "4 2018-10-28 10:30:00  2018     10   28\n"
     ]
    }
   ],
   "source": [
    "# Исправление типов данных\n",
    "sample_accidents['datetime'] = pd.to_datetime(sample_accidents['datetime'])\n",
    "sample_vehicles['manufacture_year'] = sample_vehicles['year'].astype('Int64') # Переименовываем, чтобы не путать со столбцом year для даты\n",
    "sample_vehicles = sample_vehicles.drop(columns=['year']) # Удаляем старый столбец year\n",
    "\n",
    "# Преобразование даты\n",
    "sample_accidents['year'] = sample_accidents['datetime'].dt.year\n",
    "sample_accidents['month'] = sample_accidents['datetime'].dt.month\n",
    "sample_accidents['day'] = sample_accidents['datetime'].dt.day\n",
    "\n",
    "# Проверка\n",
    "print(\"Аварии с элементами даты:\\n\", sample_accidents[['datetime', 'year', 'month', 'day']].head())"
   ]
  },
  {
   "cell_type": "code",
   "execution_count": 13,
   "id": "5e03e3f1-91f0-4c12-bf55-121da6f96216",
   "metadata": {},
   "outputs": [
    {
     "name": "stdout",
     "output_type": "stream",
     "text": [
      "Очищенные данные сохранены в data/processed/\n"
     ]
    }
   ],
   "source": [
    "# Сохранение очищенных данных\n",
    "sample_accidents.to_csv('../data/processed/cleaned_accidents.csv', index=False)\n",
    "sample_participants.to_csv('../data/processed/cleaned_participants.csv', index=False)\n",
    "sample_vehicles.to_csv('../data/processed/cleaned_vehicles.csv', index=False)\n",
    "\n",
    "print(\"Очищенные данные сохранены в data/processed/\")"
   ]
  },
  {
   "cell_type": "code",
   "execution_count": null,
   "id": "45a3e8e8-6a83-498f-9074-81406e022d8b",
   "metadata": {},
   "outputs": [],
   "source": [
    "\n"
   ]
  }
 ],
 "metadata": {
  "kernelspec": {
   "display_name": "Python 3 (ipykernel)",
   "language": "python",
   "name": "python3"
  },
  "language_info": {
   "codemirror_mode": {
    "name": "ipython",
    "version": 3
   },
   "file_extension": ".py",
   "mimetype": "text/x-python",
   "name": "python",
   "nbconvert_exporter": "python",
   "pygments_lexer": "ipython3",
   "version": "3.12.3"
  }
 },
 "nbformat": 4,
 "nbformat_minor": 5
}
